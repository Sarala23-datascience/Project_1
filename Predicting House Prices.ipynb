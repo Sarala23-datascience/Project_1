{
 "cells": [
  {
   "cell_type": "code",
   "execution_count": 5,
   "id": "7d6c5798",
   "metadata": {},
   "outputs": [],
   "source": [
    "# Data Preprocessing\n",
    "import pandas as pd\n",
    "from sklearn.model_selection import train_test_split"
   ]
  },
  {
   "cell_type": "code",
   "execution_count": 4,
   "id": "c9b0ce79",
   "metadata": {},
   "outputs": [],
   "source": [
    "#Load the dataset\n",
    "data=pd.read_csv(\"C:\\\\Users\\\\saral\\\\OneDrive\\\\Desktop\\\\Datasets\\\\California_Housing_Prices.zip\")"
   ]
  },
  {
   "cell_type": "code",
   "execution_count": 4,
   "id": "ff5acc10",
   "metadata": {},
   "outputs": [],
   "source": [
    "#Handle missing values\n",
    "data=data.dropna()"
   ]
  },
  {
   "cell_type": "code",
   "execution_count": 5,
   "id": "5a611061",
   "metadata": {},
   "outputs": [],
   "source": [
    "#Convert categorical variables to numerical\n",
    "data=pd.get_dummies(data)"
   ]
  },
  {
   "cell_type": "code",
   "execution_count": 9,
   "id": "2cc6b2d0",
   "metadata": {},
   "outputs": [],
   "source": [
    "#Split the dataset\n",
    "X=data.drop('median_house_value',axis=1)\n",
    "Y=data['median_house_value']\n",
    "X_train, X_test, Y_train, Y_test= train_test_split(X,Y, test_size=0.2, random_state=42)"
   ]
  },
  {
   "cell_type": "code",
   "execution_count": 12,
   "id": "6a876695",
   "metadata": {},
   "outputs": [
    {
     "name": "stdout",
     "output_type": "stream",
     "text": [
      "Mean Absolute Error:50413.43330810054\n"
     ]
    }
   ],
   "source": [
    "# Model Building\n",
    "\n",
    "from sklearn.linear_model import LinearRegression\n",
    "from sklearn.metrics import mean_absolute_error\n",
    "  # train the model\n",
    "model=LinearRegression()\n",
    "model.fit(X_train, Y_train)\n",
    "\n",
    "  #predict on test data\n",
    "Y_pred= model.predict(X_test)\n",
    "  #evaluate the model\n",
    "mae= mean_absolute_error(Y_test, Y_pred)\n",
    "print(f'Mean Absolute Error:{mae}')"
   ]
  },
  {
   "cell_type": "code",
   "execution_count": 13,
   "id": "9b592372",
   "metadata": {},
   "outputs": [
    {
     "data": {
      "text/plain": [
       "['house_price_model.pkl']"
      ]
     },
     "execution_count": 13,
     "metadata": {},
     "output_type": "execute_result"
    }
   ],
   "source": [
    "# Saving the model\n",
    "\n",
    "import joblib\n",
    "joblib.dump(model,'house_price_model.pkl')"
   ]
  }
 ],
 "metadata": {
  "kernelspec": {
   "display_name": "Python 3 (ipykernel)",
   "language": "python",
   "name": "python3"
  },
  "language_info": {
   "codemirror_mode": {
    "name": "ipython",
    "version": 3
   },
   "file_extension": ".py",
   "mimetype": "text/x-python",
   "name": "python",
   "nbconvert_exporter": "python",
   "pygments_lexer": "ipython3",
   "version": "3.9.13"
  }
 },
 "nbformat": 4,
 "nbformat_minor": 5
}
